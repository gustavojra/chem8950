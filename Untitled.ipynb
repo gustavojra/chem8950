{
 "cells": [
  {
   "cell_type": "code",
   "execution_count": 7,
   "metadata": {},
   "outputs": [],
   "source": [
    "import psi4\n",
    "import numpy as np\n",
    "from scipy.linalg import fractional_matrix_power"
   ]
  },
  {
   "cell_type": "code",
   "execution_count": 8,
   "metadata": {},
   "outputs": [],
   "source": [
    "Settings = {}\n",
    "Settings['df_basis'] = \"cc-pvtz-ri\"\n",
    "Settings[\"basis\"] = \"cc-pvtz\"\n",
    "Settings[\"molecule\"] = \"\"\"\n",
    "    1 2\n",
    "    O\n",
    "    H 1 R\n",
    "    H 1 R 2 A\n",
    "    R = 0.9\n",
    "    A = 104.5\n",
    "    symmetry c1\n",
    "\"\"\"\n",
    "Settings[\"nalpha\"] = 5\n",
    "Settings[\"nbeta\"] = 4\n",
    "Settings[\"scf_max_iter\"] = 50"
   ]
  },
  {
   "cell_type": "code",
   "execution_count": 79,
   "metadata": {},
   "outputs": [],
   "source": [
    "molecule = psi4.geometry(Settings['molecule'])\n",
    "basis = psi4.core.BasisSet.build(molecule, 'BASIS', Settings['basis'], puream=0)\n",
    "dfbasis = psi4.core.BasisSet.build(molecule, 'DF_BASIS_MP2', \"cc-pvtz-ri\", puream=0)"
   ]
  },
  {
   "cell_type": "code",
   "execution_count": 80,
   "metadata": {},
   "outputs": [],
   "source": [
    "mints = psi4.core.MintsHelper(basis)\n",
    "zero = psi4.core.BasisSet.zero_ao_basis_set()\n",
    "J = np.squeeze(mints.ao_eri(dfbasis, zero, dfbasis, zero).np)\n",
    "Jinvs = fractional_matrix_power(J, -0.5)"
   ]
  },
  {
   "cell_type": "code",
   "execution_count": 81,
   "metadata": {},
   "outputs": [],
   "source": [
    "def check_inv(A, B):\n",
    "    X = A.dot(B)\n",
    "    Y = B.dot(A)\n",
    "    np.fill_diagonal(X, 0.0)\n",
    "    np.fill_diagonal(Y, 0.0)\n",
    "    \n",
    "    \n",
    "    mY = np.max(Y)\n",
    "    mX = np.max(X)\n",
    "    \n",
    "    print('Max off-diagonal ', max(mY, mX))"
   ]
  },
  {
   "cell_type": "code",
   "execution_count": 82,
   "metadata": {},
   "outputs": [
    {
     "name": "stdout",
     "output_type": "stream",
     "text": [
      "Max off-diagonal  8.995485116726238e-05\n"
     ]
    }
   ],
   "source": [
    "check_inv(J, np.linalg.inv(J))"
   ]
  },
  {
   "cell_type": "code",
   "execution_count": 83,
   "metadata": {},
   "outputs": [],
   "source": [
    "Q = psi4.core.Matrix.from_array(J)\n",
    "Z = psi4.core.Matrix.from_array(J)\n",
    "Z = Z.np\n",
    "Q.power(-0.5, 1.e-25)\n",
    "Q = Q.np"
   ]
  },
  {
   "cell_type": "code",
   "execution_count": 84,
   "metadata": {},
   "outputs": [
    {
     "name": "stdout",
     "output_type": "stream",
     "text": [
      "Max off-diagonal  1.7465980574568989e-06\n"
     ]
    }
   ],
   "source": [
    "check_inv(Q.dot(Q), Z)"
   ]
  },
  {
   "cell_type": "code",
   "execution_count": null,
   "metadata": {},
   "outputs": [],
   "source": []
  }
 ],
 "metadata": {
  "kernelspec": {
   "display_name": "Python 3",
   "language": "python",
   "name": "python3"
  },
  "language_info": {
   "codemirror_mode": {
    "name": "ipython",
    "version": 3
   },
   "file_extension": ".py",
   "mimetype": "text/x-python",
   "name": "python",
   "nbconvert_exporter": "python",
   "pygments_lexer": "ipython3",
   "version": "3.6.9"
  }
 },
 "nbformat": 4,
 "nbformat_minor": 2
}
