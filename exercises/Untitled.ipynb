{
 "cells": [
  {
   "cell_type": "code",
   "execution_count": 1,
   "metadata": {},
   "outputs": [
    {
     "ename": "ModuleNotFoundError",
     "evalue": "No module named 'sympy'",
     "output_type": "error",
     "traceback": [
      "\u001b[0;31m---------------------------------------------------------------------------\u001b[0m",
      "\u001b[0;31mModuleNotFoundError\u001b[0m                       Traceback (most recent call last)",
      "\u001b[0;32m<ipython-input-1-27b01fcb8e6c>\u001b[0m in \u001b[0;36m<module>\u001b[0;34m\u001b[0m\n\u001b[0;32m----> 1\u001b[0;31m from sympy.physics.secondquant import (AntiSymmetricTensor, wicks,\n\u001b[0m\u001b[1;32m      2\u001b[0m         \u001b[0mF\u001b[0m\u001b[0;34m,\u001b[0m \u001b[0mFd\u001b[0m\u001b[0;34m,\u001b[0m \u001b[0mNO\u001b[0m\u001b[0;34m,\u001b[0m \u001b[0mevaluate_deltas\u001b[0m\u001b[0;34m,\u001b[0m \u001b[0msubstitute_dummies\u001b[0m\u001b[0;34m,\u001b[0m \u001b[0mCommutator\u001b[0m\u001b[0;34m,\u001b[0m\u001b[0;34m\u001b[0m\u001b[0;34m\u001b[0m\u001b[0m\n\u001b[1;32m      3\u001b[0m         simplify_index_permutations, PermutationOperator)\n\u001b[1;32m      4\u001b[0m from sympy import (\n\u001b[1;32m      5\u001b[0m     \u001b[0msymbols\u001b[0m\u001b[0;34m,\u001b[0m \u001b[0mRational\u001b[0m\u001b[0;34m,\u001b[0m \u001b[0mlatex\u001b[0m\u001b[0;34m,\u001b[0m \u001b[0mDummy\u001b[0m\u001b[0;34m\u001b[0m\u001b[0;34m\u001b[0m\u001b[0m\n",
      "\u001b[0;31mModuleNotFoundError\u001b[0m: No module named 'sympy'"
     ]
    }
   ],
   "source": [
    "from sympy.physics.secondquant import (AntiSymmetricTensor, wicks,\n",
    "        F, Fd, NO, evaluate_deltas, substitute_dummies, Commutator,\n",
    "        simplify_index_permutations, PermutationOperator)\n",
    "from sympy import (\n",
    "    symbols, Rational, latex, Dummy\n",
    ")"
   ]
  },
  {
   "cell_type": "code",
   "execution_count": null,
   "metadata": {},
   "outputs": [],
   "source": []
  }
 ],
 "metadata": {
  "kernelspec": {
   "display_name": "Python 3",
   "language": "python",
   "name": "python3"
  },
  "language_info": {
   "codemirror_mode": {
    "name": "ipython",
    "version": 3
   },
   "file_extension": ".py",
   "mimetype": "text/x-python",
   "name": "python",
   "nbconvert_exporter": "python",
   "pygments_lexer": "ipython3",
   "version": "3.6.9"
  }
 },
 "nbformat": 4,
 "nbformat_minor": 2
}
